{
 "cells": [
  {
   "cell_type": "code",
   "execution_count": null,
   "metadata": {},
   "outputs": [],
   "source": [
    "import pandas as pd\n",
    "import numpy as np\n",
    "import os\n",
    "import matplotlib.pyplot as plt\n",
    "from matplotlib import style\n",
    "import seaborn as sns\n",
    "from sklearn.feature_selection import SelectKBest \n",
    "from sklearn.feature_selection import f_classif \n",
    "from sklearn.feature_selection import RFE \n",
    "from sklearn.ensemble import ExtraTreesClassifier  "
   ]
  },
  {
   "cell_type": "code",
   "execution_count": null,
   "metadata": {},
   "outputs": [],
   "source": [
    "train = pd.read_csv(\"datasets/training.csv\") #filepath\n",
    "train"
   ]
  },
  {
   "cell_type": "code",
   "execution_count": null,
   "metadata": {},
   "outputs": [],
   "source": [
    "subset_tau =train[[\"LifeTime\", \"FlightDistance\", \"dira\", \"mass\" , \"pt\" , \"IP\", \"IPSig\" , \"VertexChi2\",\"signal\" ]]\n",
    "subset_mu = train[[\"p0_p\", \"p1_p\", \"p2_p\", \"p0_pt\" , \"p1_pt\" , \"p2_pt\", \"p0_eta\" , \"p1_eta\",\"p2_eta\",\"signal\"  ]]\n",
    "subset_detector = train.drop([\"LifeTime\", \"FlightDistance\", \"dira\", \"mass\" , \"pt\" , \"IP\", \"IPSig\" , \"VertexChi2\",\"signal\", \"p0_p\", \"p1_p\", \"p2_p\", \"p0_pt\" , \"p1_pt\" , \"p2_pt\", \"p0_eta\" , \"p1_eta\",\"p2_eta\" ], axis=1)"
   ]
  },
  {
   "cell_type": "code",
   "execution_count": null,
   "metadata": {},
   "outputs": [],
   "source": [
    "# Variable numérica\n",
    "fig, axes = plt.subplots(nrows=3, ncols=3, figsize=(9, 5))\n",
    "axes = axes.flat\n",
    "columnas = subset_tau.select_dtypes(include=['float64', 'int']).columns\n",
    "columnas = columnas.drop('signal') # objetivo\n",
    "\n",
    "for i, colum in enumerate(columnas):\n",
    "    sns.regplot(\n",
    "        x           = subset_tau[colum],\n",
    "        y           = subset_tau['signal'],\n",
    "        color       = \"gray\",\n",
    "        marker      = '.',\n",
    "        scatter_kws = {\"alpha\":0.4},\n",
    "        line_kws    = {\"color\":\"r\",\"alpha\":0.7},\n",
    "        ax          = axes[i]\n",
    "    )\n",
    "    axes[i].set_title(f\"Señal/Background vs {colum}\", fontsize = 7, fontweight = \"bold\")\n",
    "    axes[i].tick_params(labelsize = 6)\n",
    "    axes[i].set_xlabel(\"\")\n",
    "    axes[i].set_ylabel(\"\")\n",
    "\n",
    "# Se eliminan los axes vacíos\n",
    "for i in [8]:\n",
    "    fig.delaxes(axes[i])\n",
    "    \n",
    "fig.tight_layout()\n",
    "plt.subplots_adjust(top=0.9)\n",
    "fig.suptitle('Correlación con Señal/background', fontsize = 10, fontweight = \"bold\");"
   ]
  },
  {
   "cell_type": "code",
   "execution_count": null,
   "metadata": {},
   "outputs": [],
   "source": [
    "subset_tau.isnull().any().any()"
   ]
  },
  {
   "attachments": {},
   "cell_type": "markdown",
   "metadata": {},
   "source": [
    "## Selección de datos\n",
    "\n",
    "1. Objetivo: y\n",
    "2. Características: x\n",
    "\n",
    "En este caso queremos separar la señal del background"
   ]
  },
  {
   "cell_type": "code",
   "execution_count": null,
   "metadata": {},
   "outputs": [],
   "source": [
    "x = subset_tau['signal']\n",
    "k = 2  # número de atributos a seleccionar\n",
    "entrenar = subset_tau.drop(['signal'], axis=1)\n",
    "columnas = list(entrenar.columns.values)\n",
    "seleccionadas = SelectKBest(f_classif, k=k).fit(entrenar, x)\n",
    "atrib = seleccionadas.get_support()\n",
    "atributos = [columnas[i] for i in list(atrib.nonzero()[0])]\n",
    "atributos"
   ]
  },
  {
   "cell_type": "code",
   "execution_count": null,
   "metadata": {},
   "outputs": [],
   "source": [
    "modelo = ExtraTreesClassifier() \n",
    "erec = RFE(modelo)  \n",
    "erec = erec.fit(entrenar, x)"
   ]
  },
  {
   "cell_type": "code",
   "execution_count": null,
   "metadata": {},
   "outputs": [],
   "source": [
    "atrib = erec.support_\n",
    "atributos = [columnas[i] for i in list(atrib.nonzero()[0])]\n",
    "atributos"
   ]
  },
  {
   "cell_type": "code",
   "execution_count": null,
   "metadata": {},
   "outputs": [],
   "source": [
    "# Importancia de atributos.\n",
    "modelo.fit(entrenar, x)\n",
    "modelo.feature_importances_[:4]"
   ]
  }
 ],
 "metadata": {
  "kernelspec": {
   "display_name": "py310",
   "language": "python",
   "name": "python3"
  },
  "language_info": {
   "codemirror_mode": {
    "name": "ipython",
    "version": 3
   },
   "file_extension": ".py",
   "mimetype": "text/x-python",
   "name": "python",
   "nbconvert_exporter": "python",
   "pygments_lexer": "ipython3",
   "version": "3.10.6"
  },
  "orig_nbformat": 4,
  "vscode": {
   "interpreter": {
    "hash": "819112c24f0d6b36d35f6c5653e120a0c93a25f82bf2809eaf9b65613f02e80c"
   }
  }
 },
 "nbformat": 4,
 "nbformat_minor": 2
}
