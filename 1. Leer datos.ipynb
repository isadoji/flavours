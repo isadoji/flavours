{
 "cells": [
  {
   "attachments": {},
   "cell_type": "markdown",
   "metadata": {},
   "source": [
    "# Flavours of Physics: Finding $\\tau \\rightarrow 3 \\mu$\n",
    "\n",
    "https://www.kaggle.com/competitions/flavours-of-physics\n",
    "\n",
    "https://storage.googleapis.com/kaggle-competitions/kaggle/4488/media/lhcb_description_official.pdf\n",
    "\n",
    "https://arxiv.org/pdf/1409.8548.pdf"
   ]
  },
  {
   "attachments": {},
   "cell_type": "markdown",
   "metadata": {},
   "source": [
    "<div> <img src=\"fig/lhcb_trimuon_decay.png\" alt=\"Drawing\" style=\"width: 400px;\"/></div>\n",
    "\n",
    "https://muon.wordpress.com/2014/10/04/lhcb-searches-for-lfv-in-tau-decays/"
   ]
  },
  {
   "cell_type": "code",
   "execution_count": null,
   "metadata": {},
   "outputs": [],
   "source": [
    "import pandas as pd\n",
    "import numpy as np\n",
    "import os\n",
    "import matplotlib.pyplot as plt\n",
    "import seaborn as sns\n",
    "#import lux"
   ]
  },
  {
   "cell_type": "code",
   "execution_count": null,
   "metadata": {},
   "outputs": [],
   "source": [
    "def train_corr(data): #matriz de correlación\n",
    "    correlation = data.corr()\n",
    "    sns.heatmap(correlation, annot=True, cbar=True, cmap=\"RdYlGn\")"
   ]
  },
  {
   "attachments": {},
   "cell_type": "markdown",
   "metadata": {},
   "source": [
    "## Importar los datos"
   ]
  },
  {
   "cell_type": "code",
   "execution_count": null,
   "metadata": {},
   "outputs": [],
   "source": [
    "train = pd.read_csv(\"datasets/training.csv\") #filepath\n",
    "test = pd.read_csv(\"datasets/test.csv\") #filepath"
   ]
  },
  {
   "attachments": {},
   "cell_type": "markdown",
   "metadata": {},
   "source": [
    "##  Información general de los datos de entrenamiento"
   ]
  },
  {
   "cell_type": "code",
   "execution_count": null,
   "metadata": {},
   "outputs": [],
   "source": [
    "train.info()"
   ]
  },
  {
   "cell_type": "code",
   "execution_count": null,
   "metadata": {},
   "outputs": [],
   "source": [
    "train.head()"
   ]
  },
  {
   "cell_type": "code",
   "execution_count": null,
   "metadata": {},
   "outputs": [],
   "source": [
    "train.hist(bins=50, figsize=(20,15))\n",
    "plt.show()"
   ]
  },
  {
   "cell_type": "code",
   "execution_count": null,
   "metadata": {},
   "outputs": [],
   "source": [
    "train.describe()"
   ]
  },
  {
   "attachments": {},
   "cell_type": "markdown",
   "metadata": {},
   "source": [
    "## Que son los atributos? "
   ]
  },
  {
   "attachments": {},
   "cell_type": "markdown",
   "metadata": {},
   "source": [
    "| Variable\t| Definition |\n",
    "| --- | --- |\n",
    "| $\\tau$ | --- |\n",
    "| FlightDistance | Distance between τ and PV  |\n",
    "| FlightDistanceError | Error on FlightDistance | | \n",
    "| mass | τ candidate invariant mass  | \n",
    "| LifeTime | Life time of tau candidate  |\n",
    "| IP | Impact Parameter of tau candidate  |\n",
    "| IPSig | **Significance of Impact Parameter**  |\n",
    "| VertexChi2 | **χ2 of tau vertex**  |\n",
    "| dira | **Cosine of the angle between the τ momentum and line between PV and tau vertex** |\n",
    "| pt | transverse momentum of tau  | \n",
    "| Decay 3 $\\mu$  |   |\n",
    "| DOCAone - Distance of Closest Approach between p0 and p1  | | \n",
    "| IP p0p2 - Impact parameter of the p0 and p2 pair (3)| |  \n",
    "| iso - Track isolation variable | |\n",
    "| CDF1 - Cone isolation variable (3) | |\n",
    "| ISO SumBDT - Track isolation variable | |\n",
    "| p1 IsoBDT - Track isolation variable (3) | |\n",
    "| p0 track Chi2Dof - Quality of p0 muon track (3) | |\n",
    "| p0 pt | Transverse momentum of p0 muon (3)  | \n",
    "| p0 p | Momentum of p0 muon (3)  |\n",
    "| p0 eta | Pseudorapidity of p0 muon  | \n",
    "| p0 IP - Impact parameter of p0 muon (3)| |\n",
    "| p0 IPSig - Impact Parameter Significance of p0 muon (3)| |\n",
    "| SPDhits- Number of hits in the SPD detector | |"
   ]
  },
  {
   "attachments": {},
   "cell_type": "markdown",
   "metadata": {},
   "source": [
    "## Señal y background\n",
    "\n",
    "Señal: $\\tau^- \\rightarrow \\mu^- \\mu^-\\mu^+$ \n",
    "\n",
    "Background 1: $D_s \\rightarrow \\eta (\\mu^-\\mu^+\\gamma)\\mu^-\\nu_{\\mu}$ \n",
    "\n",
    "Background 2: $D^+ \\rightarrow K^-\\pi^+\\pi^+$ \n",
    "\n",
    "|   |    |\n",
    "|---| ---|\n",
    "| $m_{\\tau}$ | 1776.86 MeV/c²|\n",
    "| $m_{\\mu}$  | 105.66 MeV/c²) |\n",
    "| $m_{K\\pm}$ |  493.68 MeV/c²|\n",
    "| $m_{\\pi\\pm}$ | 139.57 MeV/c² |\n",
    "|   | |\n"
   ]
  },
  {
   "cell_type": "code",
   "execution_count": null,
   "metadata": {},
   "outputs": [],
   "source": [
    "#This is a labelled dataset (the label ‘signal’ being ‘1’ for signal events, ‘0’ for background events) \n",
    "# to train the classifier. Signal events have been simulated, while background events are real data.\n",
    "\n",
    "señal = train[(train[\"signal\"]==1)]\n",
    "background = train[(train[\"signal\"]==0)]\n",
    "print(\"Señal=\",señal.shape[0])\n",
    "print(\"Background=\",background.shape[0])"
   ]
  },
  {
   "attachments": {},
   "cell_type": "markdown",
   "metadata": {},
   "source": [
    "## Leptón $\\tau$"
   ]
  },
  {
   "cell_type": "code",
   "execution_count": null,
   "metadata": {},
   "outputs": [],
   "source": [
    "\n",
    "fig, axs = plt.subplots(3, 3, figsize=(18, 10))\n",
    "fig.suptitle('Tau')\n",
    "sns.histplot(data=train, x=\"mass\",kde=True, hue = \"signal\", ax=axs[0, 0])\n",
    "sns.histplot(data=train, x=\"pt\",kde=True, hue = \"signal\", ax=axs[0, 1])\n",
    "sns.histplot(data=train, x=\"LifeTime\",kde=True, hue = \"signal\", ax=axs[1, 0])\n",
    "sns.histplot(data=train, x=\"FlightDistance\",kde=True, hue = \"signal\", ax=axs[1, 1])\n",
    "sns.histplot(data=train, x=\"dira\",kde=True, hue = \"signal\", ax=axs[1, 2] )\n",
    "sns.histplot(data=train, x=\"IP\",kde=True, hue = \"signal\", ax=axs[2, 0])\n",
    "sns.histplot(data=train, x=\"IPSig\",kde=True, hue = \"signal\", ax=axs[2, 1])\n",
    "sns.histplot(data=train, x=\"VertexChi2\",kde=True, hue = \"signal\", ax=axs[2, 2])\n"
   ]
  },
  {
   "cell_type": "code",
   "execution_count": null,
   "metadata": {},
   "outputs": [],
   "source": [
    "subset_tau = train[[\"LifeTime\", \"FlightDistance\", \"dira\", \"mass\" , \"pt\" , \"IP\", \"IPSig\" , \"VertexChi2\",\"signal\" ]]\n",
    "train_corr(subset_tau)"
   ]
  },
  {
   "attachments": {},
   "cell_type": "markdown",
   "metadata": {},
   "source": [
    "## 3 muons"
   ]
  },
  {
   "cell_type": "code",
   "execution_count": null,
   "metadata": {},
   "outputs": [],
   "source": [
    "fig, axs = plt.subplots(3, 3, figsize=(18, 10))\n",
    "fig.suptitle('3 muons')\n",
    "sns.histplot(data=train, x=\"p0_p\",kde=True, hue = \"signal\", ax=axs[0, 0])\n",
    "sns.histplot(data=train, x=\"p1_p\",kde=True, hue = \"signal\", ax=axs[0, 1])\n",
    "sns.histplot(data=train, x=\"p2_p\",kde=True, hue = \"signal\", ax=axs[0, 2])\n",
    "sns.histplot(data=train, x=\"p0_pt\",kde=True, hue = \"signal\", ax=axs[1, 0])\n",
    "sns.histplot(data=train, x=\"p1_pt\",kde=True, hue = \"signal\", ax=axs[1, 1] )\n",
    "sns.histplot(data=train, x=\"p2_pt\",kde=True, hue = \"signal\", ax=axs[1, 2])\n",
    "sns.histplot(data=train, x=\"p0_eta\",kde=True, hue = \"signal\", ax=axs[2, 0])\n",
    "sns.histplot(data=train, x=\"p1_eta\",kde=True, hue = \"signal\", ax=axs[2, 1])\n",
    "sns.histplot(data=train, x=\"p2_eta\",kde=True, hue = \"signal\", ax=axs[2, 2])"
   ]
  },
  {
   "cell_type": "code",
   "execution_count": null,
   "metadata": {},
   "outputs": [],
   "source": [
    "subset_mu = train[[\"p0_p\", \"p1_p\", \"p2_p\", \"p0_pt\" , \"p1_pt\" , \"p2_pt\", \"p0_eta\" , \"p1_eta\",\"p2_eta\" ]]\n",
    "train_corr(subset_mu)"
   ]
  }
 ],
 "metadata": {
  "kernelspec": {
   "display_name": "Python 3.10.6 ('py310')",
   "language": "python",
   "name": "python3"
  },
  "language_info": {
   "codemirror_mode": {
    "name": "ipython",
    "version": 3
   },
   "file_extension": ".py",
   "mimetype": "text/x-python",
   "name": "python",
   "nbconvert_exporter": "python",
   "pygments_lexer": "ipython3",
   "version": "3.10.6"
  },
  "vscode": {
   "interpreter": {
    "hash": "819112c24f0d6b36d35f6c5653e120a0c93a25f82bf2809eaf9b65613f02e80c"
   }
  }
 },
 "nbformat": 4,
 "nbformat_minor": 2
}
