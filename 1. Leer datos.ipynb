{
 "cells": [
  {
   "attachments": {},
   "cell_type": "markdown",
   "metadata": {},
   "source": [
    "# Flavours of Physics: Finding $\\tau \\rightarrow 3 \\mu$\n",
    "\n",
    "https://www.kaggle.com/competitions/flavours-of-physics\n",
    "\n",
    "https://storage.googleapis.com/kaggle-competitions/kaggle/4488/media/lhcb_description_official.pdf\n",
    "\n",
    "https://arxiv.org/pdf/1409.8548.pdf"
   ]
  },
  {
   "cell_type": "code",
   "execution_count": null,
   "metadata": {},
   "outputs": [],
   "source": [
    "import pandas as pd\n",
    "import numpy as np\n",
    "import os\n",
    "import matplotlib.pyplot as plt\n",
    "import seaborn as sns\n",
    "import lux"
   ]
  },
  {
   "cell_type": "code",
   "execution_count": null,
   "metadata": {},
   "outputs": [],
   "source": [
    "train = pd.read_csv(\"datasets/training.csv\") #filepath\n",
    "test = pd.read_csv(\"datasets/test.csv\") #filepath\n",
    "train.shape"
   ]
  },
  {
   "cell_type": "code",
   "execution_count": null,
   "metadata": {},
   "outputs": [],
   "source": [
    "train.head()"
   ]
  },
  {
   "cell_type": "code",
   "execution_count": null,
   "metadata": {},
   "outputs": [],
   "source": [
    "train.columns.values"
   ]
  },
  {
   "cell_type": "code",
   "execution_count": null,
   "metadata": {},
   "outputs": [],
   "source": [
    "train.dtypes"
   ]
  },
  {
   "cell_type": "code",
   "execution_count": null,
   "metadata": {},
   "outputs": [],
   "source": [
    "train.isnull().sum()"
   ]
  },
  {
   "cell_type": "code",
   "execution_count": null,
   "metadata": {},
   "outputs": [],
   "source": [
    "train.notna"
   ]
  },
  {
   "cell_type": "code",
   "execution_count": null,
   "metadata": {},
   "outputs": [],
   "source": [
    "train.describe()"
   ]
  },
  {
   "cell_type": "code",
   "execution_count": null,
   "metadata": {},
   "outputs": [],
   "source": [
    "#This is a labelled dataset (the label ‘signal’ being ‘1’ for signal events, ‘0’ for background events) \n",
    "# to train the classifier. Signal events have been simulated, while background events are real data.\n",
    "\n",
    "señal = train[(train[\"signal\"]==0)]\n",
    "background = train[(train[\"signal\"]==1)]\n",
    "\n",
    "print(\"Señal=\",señal.shape[0])\n",
    "print(\"Background=\",background.shape[0])\n"
   ]
  },
  {
   "cell_type": "code",
   "execution_count": null,
   "metadata": {},
   "outputs": [],
   "source": [
    "sns.displot(data = train, x = \"pt\", hue = \"signal\", kind = \"kde\", fill = \"True\")"
   ]
  },
  {
   "cell_type": "code",
   "execution_count": null,
   "metadata": {},
   "outputs": [],
   "source": [
    "def train_corr(data): #matriz de correlación\n",
    "    correlation = data.corr()\n",
    "    sns.heatmap(correlation, annot=True, cbar=True, cmap=\"RdYlGn\")\n",
    "\n",
    "train_corr(train)"
   ]
  },
  {
   "cell_type": "code",
   "execution_count": null,
   "metadata": {},
   "outputs": [],
   "source": [
    "\n",
    "subset_signal= señal[[\"pt\", \"mass\", \"p0_pt\" , \"p1_pt\" , \"p2_pt\" ]]\n",
    "subset_background= background[[\"pt\", \"mass\", \"p0_pt\" , \"p1_pt\" , \"p2_pt\" ]]\n"
   ]
  },
  {
   "cell_type": "code",
   "execution_count": null,
   "metadata": {},
   "outputs": [],
   "source": [
    "plt.figure(figsize=(10,3))\n",
    "plt.subplot(1,2,1)\n",
    "plt.title(\"Señal\")\n",
    "train_corr(subset_signal)\n",
    "plt.subplot(1,2,2)\n",
    "plt.title(\"Background\")\n",
    "train_corr(subset_background)\n"
   ]
  }
 ],
 "metadata": {
  "kernelspec": {
   "display_name": "Python 3.10.6 ('py310')",
   "language": "python",
   "name": "python3"
  },
  "language_info": {
   "codemirror_mode": {
    "name": "ipython",
    "version": 3
   },
   "file_extension": ".py",
   "mimetype": "text/x-python",
   "name": "python",
   "nbconvert_exporter": "python",
   "pygments_lexer": "ipython3",
   "version": "3.10.6"
  },
  "vscode": {
   "interpreter": {
    "hash": "819112c24f0d6b36d35f6c5653e120a0c93a25f82bf2809eaf9b65613f02e80c"
   }
  }
 },
 "nbformat": 4,
 "nbformat_minor": 2
}
